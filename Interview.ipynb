{
  "nbformat": 4,
  "nbformat_minor": 0,
  "metadata": {
    "colab": {
      "provenance": []
    },
    "kernelspec": {
      "name": "python3",
      "display_name": "Python 3"
    },
    "language_info": {
      "name": "python"
    }
  },
  "cells": [
    {
      "cell_type": "markdown",
      "source": [
        "#Everything that follows, was tested and run on Google Colab. The excel with the necessary data was uploaded before running the main cell."
      ],
      "metadata": {
        "id": "Sqhf0TBz7YHK"
      }
    },
    {
      "cell_type": "markdown",
      "source": [
        "The following downloads and imports are needed for the whole project."
      ],
      "metadata": {
        "id": "wvq8t0rhmHhJ"
      }
    },
    {
      "cell_type": "code",
      "source": [
        "!pip install keras-tuner"
      ],
      "metadata": {
        "colab": {
          "base_uri": "https://localhost:8080/"
        },
        "id": "Aff7XqdXBbLy",
        "outputId": "57429a0c-2881-499e-909c-65a5c76d8f3a"
      },
      "execution_count": 1,
      "outputs": [
        {
          "output_type": "stream",
          "name": "stdout",
          "text": [
            "Collecting keras-tuner\n",
            "  Downloading keras_tuner-1.4.7-py3-none-any.whl (129 kB)\n",
            "\u001b[?25l     \u001b[90m━━━━━━━━━━━━━━━━━━━━━━━━━━━━━━━━━━━━━━━━\u001b[0m \u001b[32m0.0/129.1 kB\u001b[0m \u001b[31m?\u001b[0m eta \u001b[36m-:--:--\u001b[0m\r\u001b[2K     \u001b[91m━━━━━━━━━━━━━━━━━━━━━━━━━━━━\u001b[0m\u001b[91m╸\u001b[0m\u001b[90m━━━━━━━━━━━\u001b[0m \u001b[32m92.2/129.1 kB\u001b[0m \u001b[31m2.6 MB/s\u001b[0m eta \u001b[36m0:00:01\u001b[0m\r\u001b[2K     \u001b[90m━━━━━━━━━━━━━━━━━━━━━━━━━━━━━━━━━━━━━━━━\u001b[0m \u001b[32m129.1/129.1 kB\u001b[0m \u001b[31m2.5 MB/s\u001b[0m eta \u001b[36m0:00:00\u001b[0m\n",
            "\u001b[?25hRequirement already satisfied: keras in /usr/local/lib/python3.10/dist-packages (from keras-tuner) (2.15.0)\n",
            "Requirement already satisfied: packaging in /usr/local/lib/python3.10/dist-packages (from keras-tuner) (24.0)\n",
            "Requirement already satisfied: requests in /usr/local/lib/python3.10/dist-packages (from keras-tuner) (2.31.0)\n",
            "Collecting kt-legacy (from keras-tuner)\n",
            "  Downloading kt_legacy-1.0.5-py3-none-any.whl (9.6 kB)\n",
            "Requirement already satisfied: charset-normalizer<4,>=2 in /usr/local/lib/python3.10/dist-packages (from requests->keras-tuner) (3.3.2)\n",
            "Requirement already satisfied: idna<4,>=2.5 in /usr/local/lib/python3.10/dist-packages (from requests->keras-tuner) (3.6)\n",
            "Requirement already satisfied: urllib3<3,>=1.21.1 in /usr/local/lib/python3.10/dist-packages (from requests->keras-tuner) (2.0.7)\n",
            "Requirement already satisfied: certifi>=2017.4.17 in /usr/local/lib/python3.10/dist-packages (from requests->keras-tuner) (2024.2.2)\n",
            "Installing collected packages: kt-legacy, keras-tuner\n",
            "Successfully installed keras-tuner-1.4.7 kt-legacy-1.0.5\n"
          ]
        }
      ]
    },
    {
      "cell_type": "code",
      "execution_count": 14,
      "metadata": {
        "id": "Z63dLEk7gUSH"
      },
      "outputs": [],
      "source": [
        "import keras\n",
        "import numpy as np\n",
        "import pandas as pd\n",
        "import seaborn as sns\n",
        "import tensorflow as tf\n",
        "import matplotlib.pyplot as plt\n",
        "from sklearn.impute import KNNImputer\n",
        "from keras_tuner.tuners import Hyperband\n",
        "from sklearn.feature_selection import RFE\n",
        "from sklearn.preprocessing import LabelEncoder\n",
        "from sklearn.ensemble import RandomForestRegressor\n",
        "from sklearn.model_selection import train_test_split"
      ]
    },
    {
      "cell_type": "markdown",
      "source": [
        "The following function is used to clean the dataset. Initially, I visually inspected the data to identify inconsistencies and understand the type of each column in the dataset. Additionally, I printed a few rows, the data types for each column, and the statistics. Subsequently, I checked the dataset for null entries and attempted to fill them using a KNN Imputer for appropriate answers. If the imputation failed due to many consecutive rows containing missing values, I removed them. Another solution I considered was checking the column descriptions for keywords like 'rain' or 'snow' and using them to populate the 'Precip Type' column.\n"
      ],
      "metadata": {
        "id": "tbyqtLcw8_oO"
      }
    },
    {
      "cell_type": "code",
      "source": [
        "def read_file():\n",
        "\t# Load the dataset.\n",
        "\tweather_data = pd.read_csv('./interview_dataset.csv')\n",
        "\n",
        "\t# Exploratory Data Analysis.\n",
        "\tprint(weather_data.head())  # View the first few rows of the dataset.\n",
        "\tprint(weather_data.info())  # Check data types and missing values.\n",
        "\tprint(weather_data.describe())  # Summary statistics.\n",
        "\n",
        "\t# Check for missing values.\n",
        "\tmissing_values = weather_data.isnull().sum()\n",
        "\tprint(\"Missing Values:\", missing_values)\n",
        "\n",
        "\t# Check and remove outliers.\n",
        "\tweather_data = remove_outliers(weather_data)\n",
        "\n",
        "\t# Drop rows where the imputer didn't have sufficient data.\n",
        "\tweather_data = weather_data.dropna()\n",
        "\n",
        "\t# Replace the original column with the imputed values\n",
        "\tweather_data['Precip Type'], label_encoder = data_imputation(weather_data)\n",
        "\n",
        "\t# Check for missing values.\n",
        "\tmissing_values = weather_data.isnull().sum()\n",
        "\tprint(\"Missing Values After Clean Up:\", missing_values)\n",
        "\n",
        "\t# Save the DataFrame to a CSV file\n",
        "\tweather_data.to_csv('./updated_dataset.csv', index=False)\n",
        "\n",
        "\treturn weather_data, label_encoder\n"
      ],
      "metadata": {
        "id": "U22m1m5kmGRJ"
      },
      "execution_count": 15,
      "outputs": []
    },
    {
      "cell_type": "markdown",
      "source": [
        "The following function uses KNN data imputation. The main principle of this algorithm is to leverage the information from neighboring data points surrounding the missing values to infer and impute the missing data. Adding -1 to every NaN value to remove it later."
      ],
      "metadata": {
        "id": "ZhPSx7vQTDAD"
      }
    },
    {
      "cell_type": "code",
      "source": [
        "def data_imputation(weather_data):\n",
        "\t# Check the column names in the DataFrame\n",
        "\tprint(weather_data.columns)\n",
        "\n",
        "\t# Assuming the column name is 'Precip Type', use the correct column name from your DataFrame\n",
        "\tcolumn_with_missing = weather_data['Precip Type']  # Ensure 'Precip Type' is the correct column name\n",
        "\n",
        "\t# Label encode the categorical column\n",
        "\tlabel_encoder = LabelEncoder()\n",
        "\tcolumn_with_missing_encoded = label_encoder.fit_transform(column_with_missing.astype(str))  # Ensure column values are converted to strings\n",
        "\n",
        "\t# Convert the encoded column to a DataFrame\n",
        "\tdf = pd.DataFrame(column_with_missing_encoded, columns=['Precip Type'])\n",
        "\n",
        "\t# Reshape the column to 2D array\n",
        "\tcolumn_with_missing_2d = df['Precip Type'].values.reshape(-1, 1)\n",
        "\n",
        "\t# Initialize the KNNImputer with k neighbors\n",
        "\timputer = KNNImputer(n_neighbors=2, weights=\"uniform\")\n",
        "\n",
        "\t# Impute missing values using KNN imputation\n",
        "\timputed_column_2d = imputer.fit_transform(column_with_missing_2d)\n",
        "\n",
        "\t# Flatten the imputed column back to 1D array\n",
        "\timputed_column = imputed_column_2d.flatten()\n",
        "\n",
        "\treturn imputed_column, label_encoder"
      ],
      "metadata": {
        "id": "DVXaYWieGjWd"
      },
      "execution_count": 16,
      "outputs": []
    },
    {
      "cell_type": "markdown",
      "source": [
        "The following function finds 1st quantile and 3rd quantile of each numerical column. Afterwards, it calculates the IQR and the upper/lower bound based on a threshold. If the value is lower than the lower bound or higher than the upper bound the row is removed."
      ],
      "metadata": {
        "id": "m9GZdU3__svT"
      }
    },
    {
      "cell_type": "code",
      "source": [
        "def remove_outliers(df, threshold=1.5):\n",
        "    numeric_columns = df.select_dtypes(include=['number']).columns\n",
        "\n",
        "    for column in numeric_columns:\n",
        "        Q1 = df[column].quantile(0.25)\n",
        "        Q3 = df[column].quantile(0.75)\n",
        "        IQR = Q3 - Q1\n",
        "        lower_bound = Q1 - threshold * IQR\n",
        "        upper_bound = Q3 + threshold * IQR\n",
        "        df = df[(df[column] >= lower_bound) & (df[column] <= upper_bound)]\n",
        "\n",
        "    return df"
      ],
      "metadata": {
        "id": "1_Al_tIm_tBy"
      },
      "execution_count": 17,
      "outputs": []
    },
    {
      "cell_type": "markdown",
      "source": [
        "The following function is used to visualize the distribution and correlation among the dataset's features. Upon examining the correlation matrix, it becomes clear which features hold greater significance, and which class serves as our label."
      ],
      "metadata": {
        "id": "nNi_ZKtvTAxb"
      }
    },
    {
      "cell_type": "code",
      "source": [
        "def visualize_correlation(weather_data):\n",
        "\t# Visualize the distribution of numerical features\n",
        "\tsns.pairplot(weather_data, diag_kind='kde')\n",
        "\tplt.show()\n",
        "\n",
        "\t# Correlation analysis\n",
        "\tcorrelation_matrix = weather_data.corr(numeric_only=True)\n",
        "\tplt.figure(figsize=(12, 8))\n",
        "\tsns.heatmap(correlation_matrix, annot=True, cmap='coolwarm', fmt=\".2f\")\n",
        "\tplt.title('Correlation Matrix')\n",
        "\tplt.show()"
      ],
      "metadata": {
        "id": "smgLNRazHhfW"
      },
      "execution_count": 18,
      "outputs": []
    },
    {
      "cell_type": "markdown",
      "source": [
        "After reviewing the correlation matrix, I proceeded with a more in-depth analysis using classifiers to determine feature importance. Subsequently, I removed columns containing text and determined the total number of classes. The use of different algorithms yielded two distinct sets of results. Both sets will be considered to determine which features yield the optimal model performance."
      ],
      "metadata": {
        "id": "f0cXDMtvVps5"
      }
    },
    {
      "cell_type": "code",
      "source": [
        "def get_feature_importance(weather_data):\n",
        "\t# Number of classes\n",
        "\tnum_classes = 1\n",
        "\n",
        "\tweather_data = weather_data.drop(columns=['Summary', 'Daily Summary'])\n",
        "\t# Separate features (X) and target variable (y)\n",
        "\tX = weather_data.drop(columns=['Apparent Temperature (C)'])  # Features\n",
        "\ty = weather_data['Temperature (C)']  # Target variable\n",
        "\n",
        "\t# Split the data into training and testing sets\n",
        "\tX_train, X_test, y_train, y_test = train_test_split(X, y, test_size=0.2, random_state=42)\n",
        "\n",
        "\t# 1. Feature Importance from Tree-based Models\n",
        "\t# Train a Random Forest classifier to obtain feature importance\n",
        "\trf = RandomForestRegressor(n_estimators=100, random_state=42)\n",
        "\trf.fit(X_train, y_train)\n",
        "\n",
        "\t# Get feature importance scores\n",
        "\tfeature_importance = rf.feature_importances_\n",
        "\tfeature_names = X.columns\n",
        "\n",
        "\t# Select features with importance above a certain threshold\n",
        "\tthreshold = 0.05  # Example threshold\n",
        "\tselected_features_rf = feature_names[feature_importance > threshold]\n",
        "\n",
        "\t# 2. Recursive Feature Elimination (RFE)\n",
        "\t# Initialize RFE with a RandomForestRegressor\n",
        "\trfe = RFE(estimator=RandomForestRegressor(n_estimators=100, random_state=42), n_features_to_select=5)\n",
        "\trfe.fit(X_train, y_train)\n",
        "\n",
        "\t# Get selected features from RFE\n",
        "\tselected_features_rfe = feature_names[rfe.support_]\n",
        "\n",
        "\t# Print selected features\n",
        "\tprint(\"Selected Features from Random Forest Feature Importance:\")\n",
        "\tprint(selected_features_rf)\n",
        "\tprint(\"\\nSelected Features from Recursive Feature Elimination (RFE):\")\n",
        "\tprint(selected_features_rfe)\n",
        "\n",
        "\t# Drop columns not in the list\n",
        "\tcolumns_to_drop = [col for col in X.columns if col not in selected_features_rf]\n",
        "\trf_data = X.drop(columns=columns_to_drop)\n",
        "\n",
        "\t# Drop columns not in the list\n",
        "\tcolumns_to_drop = [col for col in X.columns if col not in selected_features_rfe]\n",
        "\trfe_data = X.drop(columns=columns_to_drop)\n",
        "\n",
        "\treturn num_classes, rf_data, rfe_data"
      ],
      "metadata": {
        "id": "fb-X04_2Vp9R"
      },
      "execution_count": 34,
      "outputs": []
    },
    {
      "cell_type": "markdown",
      "source": [
        "Normalize each column of the features"
      ],
      "metadata": {
        "id": "MouepbaETm21"
      }
    },
    {
      "cell_type": "code",
      "source": [
        "def normalize(data):\n",
        "    data_mean = data.mean(axis=0)\n",
        "    data_std = data.std(axis=0)\n",
        "    return (data - data_mean) / data_std"
      ],
      "metadata": {
        "id": "I5IA8p-JTl-1"
      },
      "execution_count": 9,
      "outputs": []
    },
    {
      "cell_type": "markdown",
      "source": [
        "Get extracted features"
      ],
      "metadata": {
        "id": "clI3r1ZHVvzb"
      }
    },
    {
      "cell_type": "code",
      "source": [
        "def get_features(weather_data, features):\n",
        "    feature_data = pd.DataFrame()\n",
        "    for feature in features:\n",
        "      print(feature)\n",
        "      feature_data = pd.concat([feature_data, weather_data[feature]], axis=1)\n",
        "    return feature_data"
      ],
      "metadata": {
        "id": "791hrQXeVzTt"
      },
      "execution_count": 36,
      "outputs": []
    },
    {
      "cell_type": "markdown",
      "source": [
        "For the model I decided on using a Long-Short Memomry Model (LSTM). It is a really common neural model for Time-Series data. A few alternative algorithms that could be used are Autoregressive Integrated Moving Average (ARIMA) and Seasonal Autoregressive Integrated Moving-Average (SARIMA). All of the have their pros and cons, but LSTM with our current size was a more optimal choice in my opinion, even if it is more computationally expensive. For the hyperparameters of the model, I used the tuner to try and test different values to get the optimal hyper-parameters. The tuner only has to run one time, giving us the result and saving them to a directory to be re-used."
      ],
      "metadata": {
        "id": "JPps1x52ZUut"
      }
    },
    {
      "cell_type": "markdown",
      "source": [
        "After getting the best model predicted by the tuner, we train it for 100 epochs (I believe that around 50 to 100 would be a great selection) and plot the training history of the model."
      ],
      "metadata": {
        "id": "x5FBav1BbnAz"
      }
    },
    {
      "cell_type": "code",
      "source": [
        "def run_model(inputs, dataset_val, epochs):\n",
        "\tinputs = keras.layers.Input(shape=(inputs.shape[1], inputs.shape[2]))\n",
        "\tlstm_out = keras.layers.LSTM(32)(inputs)\n",
        "\toutputs = keras.layers.Dense(1)(lstm_out)\n",
        "\n",
        "\tmodel = keras.Model(name=\"Weather_forcaster\",inputs=inputs, outputs=outputs)\n",
        "\tmodel.compile(optimizer=keras.optimizers.Adam(learning_rate=0.001), loss=\"mse\")\n",
        "\tmodel.summary()\n",
        "\n",
        "\thistory = model.fit(\n",
        "    dataset_train,\n",
        "    epochs=epochs,\n",
        "    validation_data=dataset_val\n",
        "\t)\n",
        "\n",
        "\tloss = history.history[\"loss\"]\n",
        "\tepochs = range(len(loss))\n",
        "\tplt.figure()\n",
        "\tplt.plot(epochs, loss, \"b\", label=\"Training loss\")\n",
        "\tplt.title(\"Training Loss\")\n",
        "\tplt.xlabel(\"Epochs\")\n",
        "\tplt.ylabel(\"Loss\")\n",
        "\tplt.show()\n",
        "\n",
        "\treturn model, history"
      ],
      "metadata": {
        "id": "ZCBiq6mEbnRb"
      },
      "execution_count": 63,
      "outputs": []
    },
    {
      "cell_type": "markdown",
      "source": [
        "I've designed the following function to iterate through each column. If a column contains numerical data, the function generates new synthetic data. It calculates the mean and standard deviation of each numerical column and generates a new value using a Gaussian distribution centered around the calculated mean with the standard deviation as the spread. These synthetic data points are then added to a new row for prediction."
      ],
      "metadata": {
        "id": "UVQM14VvGHul"
      }
    },
    {
      "cell_type": "code",
      "source": [
        "def generate_data(df, num_rows=48):\n",
        "    new_rows = []\n",
        "    for _ in range(num_rows):\n",
        "        new_row = {}\n",
        "        for column in df.select_dtypes(include=['number']).columns:\n",
        "            # Get mean and standard diviation\n",
        "            mean = df[column].mean()\n",
        "            std = df[column].std()\n",
        "\n",
        "            # Generate random data with gaussian distribution.\n",
        "            synthetic_value = np.random.normal(mean, std)\n",
        "            new_row[column] = synthetic_value\n",
        "        new_rows.append(new_row)\n",
        "    new_df = pd.DataFrame(new_rows)\n",
        "    return new_df"
      ],
      "metadata": {
        "id": "7bCh5zB1GHXN"
      },
      "execution_count": 12,
      "outputs": []
    },
    {
      "cell_type": "markdown",
      "source": [
        "The following code is to run the code, split the train data to validation and train data. Finally, running and testing the model using the generated data."
      ],
      "metadata": {
        "id": "u97nkqDycP3S"
      }
    },
    {
      "cell_type": "code",
      "source": [
        "import time\n",
        "\n",
        "if __name__ == \"__main__\":\n",
        "\tweather_data, label_encoder = read_file()\n",
        "\n",
        "\t# Set dates as indices\n",
        "\tweather_data.set_index('Formatted Date', inplace=True)\n",
        "\n",
        "\t# Visualise the correlation\n",
        "\t# visualize_correlation(weather_data)\n",
        "\tnum_classes, selected_features_rf, selected_features_rfe = get_feature_importance(weather_data)\n",
        "\tweather_data = weather_data.drop(columns=['Summary', 'Daily Summary'])\n",
        "\n",
        "\t# Get features and create the new dataset\n",
        "\tfeatures = get_features(weather_data, selected_features_rfe)\n",
        "\tfeatures = normalize(features.values)\n",
        "\tfeatures = pd.DataFrame(features)\n",
        "\tprint('TEST!', features.head())\n",
        "\ttime.sleep(10)\n",
        "\t# Get train-validation sets.\n",
        "\ttraining_size = int(0.8 * features.shape[0])\n",
        "\ttrain_data = features.loc[0 : training_size - 1]\n",
        "\tval_data = features.loc[training_size:]\n",
        "\n",
        "\t# Set series to read each time\n",
        "\tepochs = 50\n",
        "\tdays = 3\n",
        "\ttimestamps = 24\n",
        "\tdays_to_predict = 3\n",
        "\tstart = days*timestamps + days_to_predict*timestamps\n",
        "\tend = start + training_size\n",
        "\n",
        "\t# Split data\n",
        "\tx_train = train_data.values\n",
        "\ty_train = features.iloc[start:end][[0]]\n",
        "\n",
        "\t# Set sequence length\n",
        "\tsequence_length = int((days*timestamps + days_to_predict*timestamps) / (days_to_predict*timestamps))\n",
        "\n",
        "\t# Set dataset as a timeseries\n",
        "\tdataset_train = tf.keras.preprocessing.timeseries_dataset_from_array(\n",
        "    data=x_train,\n",
        "    targets=y_train,\n",
        "    sequence_length=sequence_length,\n",
        "    sampling_rate=6,\n",
        "    batch_size=64,\n",
        "\t)\n",
        "\n",
        "\t# Create validation set\n",
        "\tx_val_end = len(val_data) - start\n",
        "\n",
        "\tlabel_start = training_size + start\n",
        "\n",
        "\tx_val = val_data.iloc[:x_val_end][[i for i in range(len(features.columns))]].values\n",
        "\ty_val = features.iloc[label_start:][[0]]\n",
        "\n",
        "\tdataset_val = keras.preprocessing.timeseries_dataset_from_array(\n",
        "    x_val,\n",
        "    y_val,\n",
        "    sequence_length=sequence_length,\n",
        "    sampling_rate=6,\n",
        "    batch_size=64,\n",
        "\t)\n",
        "\n",
        "\t# Get batch\n",
        "\tfor batch in dataset_train.take(1):\n",
        "\t\tinputs, targets = batch\n",
        "\n",
        "\tmodel, history_data = run_model(inputs, dataset_val, epochs)\n",
        "\n",
        "\ttemp_mean = weather_data['Temperature (C)'].mean(axis=0)\n",
        "\ttemp_std = weather_data['Temperature (C)'].std(axis=0)\n",
        "\n",
        "\tfor x, y in dataset_val.skip(12):\n",
        "\t\thistory_data = x[0][:, 1].numpy() * temp_std + temp_mean\n",
        "\t\ttrue_value = y[0].numpy() * temp_std + temp_mean\n",
        "\t\tprediction = model.predict(x)[0] * temp_std + temp_mean\n",
        "\t\ttime_steps = list(range(-(history_data.shape[0]), 0))\n",
        "\t\tplt.plot(time_steps, history_data)\n",
        "\t\tplt.plot(36, true_value, \"gD\")\n",
        "\t\tplt.plot(36, prediction, \"rX\")\n",
        "\t\tplt.legend([\"History\", \"True Future\", \"Model Prediction\"])\n",
        "\t\tplt.xlabel(\"Time\")\n",
        "\t\tplt.show()\n",
        "\t\tbreak\n",
        ""
      ],
      "metadata": {
        "id": "r_sILiT-cQF6",
        "colab": {
          "base_uri": "https://localhost:8080/",
          "height": 1000
        },
        "outputId": "58c5f178-c19b-4638-e146-250a489303ed"
      },
      "execution_count": 72,
      "outputs": [
        {
          "output_type": "stream",
          "name": "stdout",
          "text": [
            "Selected Features from Random Forest Feature Importance:\n",
            "Index(['Temperature (C)'], dtype='object')\n",
            "\n",
            "Selected Features from Recursive Feature Elimination (RFE):\n",
            "Index(['Precip Type', 'Temperature (C)', 'Wind Speed (km/h)',\n",
            "       'Wind Bearing (degrees)', 'Pressure (millibars)'],\n",
            "      dtype='object')\n",
            "Precip Type\n",
            "Temperature (C)\n",
            "Wind Speed (km/h)\n",
            "Wind Bearing (degrees)\n",
            "Pressure (millibars)\n",
            "TEST!           0         1         2         3         4\n",
            "0 -0.278877 -0.113996  0.540185  0.069523 -0.637813\n",
            "1 -0.278877 -0.193240  0.186553 -0.138369 -0.692516\n",
            "2 -0.278877 -0.245868  0.722994 -0.227465 -0.768710\n",
            "3 -0.278877 -0.117021  0.189550 -0.098770 -0.856625\n",
            "4 -0.278877 -0.013579  0.959748 -0.029473 -0.868348\n",
            "Model: \"Weather_forcaster\"\n",
            "_________________________________________________________________\n",
            " Layer (type)                Output Shape              Param #   \n",
            "=================================================================\n",
            " input_6 (InputLayer)        [(None, 2, 5)]            0         \n",
            "                                                                 \n",
            " lstm_5 (LSTM)               (None, 32)                4864      \n",
            "                                                                 \n",
            " dense_5 (Dense)             (None, 1)                 33        \n",
            "                                                                 \n",
            "=================================================================\n",
            "Total params: 4897 (19.13 KB)\n",
            "Trainable params: 4897 (19.13 KB)\n",
            "Non-trainable params: 0 (0.00 Byte)\n",
            "_________________________________________________________________\n",
            "Epoch 1/50\n",
            "87/87 [==============================] - 4s 20ms/step - loss: 1.2252 - val_loss: 0.0893\n",
            "Epoch 2/50\n",
            "87/87 [==============================] - 1s 13ms/step - loss: 1.1686 - val_loss: 0.1266\n",
            "Epoch 3/50\n",
            "87/87 [==============================] - 2s 19ms/step - loss: 1.1453 - val_loss: 0.1616\n",
            "Epoch 4/50\n",
            "87/87 [==============================] - 2s 20ms/step - loss: 1.1317 - val_loss: 0.1889\n",
            "Epoch 5/50\n",
            "87/87 [==============================] - 1s 14ms/step - loss: 1.1221 - val_loss: 0.2087\n",
            "Epoch 6/50\n",
            "87/87 [==============================] - 1s 15ms/step - loss: 1.1143 - val_loss: 0.2228\n",
            "Epoch 7/50\n",
            "87/87 [==============================] - 1s 12ms/step - loss: 1.1076 - val_loss: 0.2328\n",
            "Epoch 8/50\n",
            "87/87 [==============================] - 1s 15ms/step - loss: 1.1014 - val_loss: 0.2400\n",
            "Epoch 9/50\n",
            "87/87 [==============================] - 1s 13ms/step - loss: 1.0956 - val_loss: 0.2452\n",
            "Epoch 10/50\n",
            "87/87 [==============================] - 1s 13ms/step - loss: 1.0902 - val_loss: 0.2491\n",
            "Epoch 11/50\n",
            "87/87 [==============================] - 2s 21ms/step - loss: 1.0849 - val_loss: 0.2519\n",
            "Epoch 12/50\n",
            "87/87 [==============================] - 1s 12ms/step - loss: 1.0799 - val_loss: 0.2540\n",
            "Epoch 13/50\n",
            "87/87 [==============================] - 1s 12ms/step - loss: 1.0751 - val_loss: 0.2555\n",
            "Epoch 14/50\n",
            "87/87 [==============================] - 1s 15ms/step - loss: 1.0705 - val_loss: 0.2564\n",
            "Epoch 15/50\n",
            "87/87 [==============================] - 1s 15ms/step - loss: 1.0659 - val_loss: 0.2570\n",
            "Epoch 16/50\n",
            "87/87 [==============================] - 1s 13ms/step - loss: 1.0614 - val_loss: 0.2572\n",
            "Epoch 17/50\n",
            "87/87 [==============================] - 1s 14ms/step - loss: 1.0570 - val_loss: 0.2572\n",
            "Epoch 18/50\n",
            "87/87 [==============================] - 1s 15ms/step - loss: 1.0527 - val_loss: 0.2569\n",
            "Epoch 19/50\n",
            "87/87 [==============================] - 2s 25ms/step - loss: 1.0483 - val_loss: 0.2564\n",
            "Epoch 20/50\n",
            "87/87 [==============================] - 1s 14ms/step - loss: 1.0440 - val_loss: 0.2557\n",
            "Epoch 21/50\n",
            "87/87 [==============================] - 1s 14ms/step - loss: 1.0397 - val_loss: 0.2549\n",
            "Epoch 22/50\n",
            "87/87 [==============================] - 1s 13ms/step - loss: 1.0355 - val_loss: 0.2541\n",
            "Epoch 23/50\n",
            "87/87 [==============================] - 1s 13ms/step - loss: 1.0313 - val_loss: 0.2531\n",
            "Epoch 24/50\n",
            "87/87 [==============================] - 1s 13ms/step - loss: 1.0272 - val_loss: 0.2520\n",
            "Epoch 25/50\n",
            "87/87 [==============================] - 1s 12ms/step - loss: 1.0232 - val_loss: 0.2508\n",
            "Epoch 26/50\n",
            "87/87 [==============================] - 1s 13ms/step - loss: 1.0192 - val_loss: 0.2496\n",
            "Epoch 27/50\n",
            "87/87 [==============================] - 1s 16ms/step - loss: 1.0153 - val_loss: 0.2483\n",
            "Epoch 28/50\n",
            "87/87 [==============================] - 2s 22ms/step - loss: 1.0115 - val_loss: 0.2470\n",
            "Epoch 29/50\n",
            "87/87 [==============================] - 1s 13ms/step - loss: 1.0077 - val_loss: 0.2456\n",
            "Epoch 30/50\n",
            "87/87 [==============================] - 1s 15ms/step - loss: 1.0040 - val_loss: 0.2442\n",
            "Epoch 31/50\n",
            "87/87 [==============================] - 1s 13ms/step - loss: 1.0004 - val_loss: 0.2427\n",
            "Epoch 32/50\n",
            "87/87 [==============================] - 1s 14ms/step - loss: 0.9969 - val_loss: 0.2412\n",
            "Epoch 33/50\n",
            "87/87 [==============================] - 1s 14ms/step - loss: 0.9934 - val_loss: 0.2396\n",
            "Epoch 34/50\n",
            "87/87 [==============================] - 1s 14ms/step - loss: 0.9899 - val_loss: 0.2380\n",
            "Epoch 35/50\n",
            "87/87 [==============================] - 1s 14ms/step - loss: 0.9866 - val_loss: 0.2364\n",
            "Epoch 36/50\n",
            "87/87 [==============================] - 1s 14ms/step - loss: 0.9832 - val_loss: 0.2347\n",
            "Epoch 37/50\n",
            "87/87 [==============================] - 1s 12ms/step - loss: 0.9799 - val_loss: 0.2330\n",
            "Epoch 38/50\n",
            "87/87 [==============================] - 1s 15ms/step - loss: 0.9766 - val_loss: 0.2313\n",
            "Epoch 39/50\n",
            "87/87 [==============================] - 1s 13ms/step - loss: 0.9734 - val_loss: 0.2295\n",
            "Epoch 40/50\n",
            "87/87 [==============================] - 1s 13ms/step - loss: 0.9702 - val_loss: 0.2277\n",
            "Epoch 41/50\n",
            "87/87 [==============================] - 1s 14ms/step - loss: 0.9670 - val_loss: 0.2259\n",
            "Epoch 42/50\n",
            "87/87 [==============================] - 2s 20ms/step - loss: 0.9638 - val_loss: 0.2241\n",
            "Epoch 43/50\n",
            "87/87 [==============================] - 1s 14ms/step - loss: 0.9607 - val_loss: 0.2222\n",
            "Epoch 44/50\n",
            "87/87 [==============================] - 1s 14ms/step - loss: 0.9576 - val_loss: 0.2204\n",
            "Epoch 45/50\n",
            "87/87 [==============================] - 1s 13ms/step - loss: 0.9545 - val_loss: 0.2185\n",
            "Epoch 46/50\n",
            "87/87 [==============================] - 1s 13ms/step - loss: 0.9514 - val_loss: 0.2166\n",
            "Epoch 47/50\n",
            "87/87 [==============================] - 1s 13ms/step - loss: 0.9484 - val_loss: 0.2146\n",
            "Epoch 48/50\n",
            "87/87 [==============================] - 1s 14ms/step - loss: 0.9453 - val_loss: 0.2127\n",
            "Epoch 49/50\n",
            "87/87 [==============================] - 1s 14ms/step - loss: 0.9423 - val_loss: 0.2107\n",
            "Epoch 50/50\n",
            "87/87 [==============================] - 2s 21ms/step - loss: 0.9393 - val_loss: 0.2087\n"
          ]
        },
        {
          "output_type": "display_data",
          "data": {
            "text/plain": [
              "<Figure size 640x480 with 1 Axes>"
            ],
            "image/png": "[encoded data removed]"
          },
          "metadata": {}
        },
        {
          "output_type": "stream",
          "name": "stdout",
          "text": [
            "2/2 [==============================] - 0s 5ms/step\n"
          ]
        },
        {
          "output_type": "display_data",
          "data": {
            "text/plain": [
              "<Figure size 640x480 with 1 Axes>"
            ],
            "image/png": "[encoded data removed]"
          },
          "metadata": {}
        }
      ]
    },
    {
      "cell_type": "markdown",
      "source": [
        "To summarize, given the current dataset I can say with confidence that using the features that were given by the Recursive Feature Elimination where the optimal solution. So, I'll add the generated RFE data to the saved file for further analysis."
      ],
      "metadata": {
        "id": "Z-1TeHqydab3"
      }
    },
    {
      "cell_type": "markdown",
      "source": [
        "The following import and code, is a basic database creation and a simple API to get and post data for further analysis."
      ],
      "metadata": {
        "id": "bt4iVnMVxq5r"
      }
    },
    {
      "cell_type": "code",
      "source": [
        "!pip install flask_sqlalchemy"
      ],
      "metadata": {
        "id": "wTrQLFMDiLYE",
        "colab": {
          "base_uri": "https://localhost:8080/"
        },
        "outputId": "8c5d3ef9-1a51-44e1-871e-752bb381e8f9"
      },
      "execution_count": null,
      "outputs": [
        {
          "output_type": "stream",
          "name": "stdout",
          "text": [
            "Collecting flask_sqlalchemy\n",
            "  Downloading flask_sqlalchemy-3.1.1-py3-none-any.whl (25 kB)\n",
            "Requirement already satisfied: flask>=2.2.5 in /usr/local/lib/python3.10/dist-packages (from flask_sqlalchemy) (2.2.5)\n",
            "Requirement already satisfied: sqlalchemy>=2.0.16 in /usr/local/lib/python3.10/dist-packages (from flask_sqlalchemy) (2.0.28)\n",
            "Requirement already satisfied: Werkzeug>=2.2.2 in /usr/local/lib/python3.10/dist-packages (from flask>=2.2.5->flask_sqlalchemy) (3.0.1)\n",
            "Requirement already satisfied: Jinja2>=3.0 in /usr/local/lib/python3.10/dist-packages (from flask>=2.2.5->flask_sqlalchemy) (3.1.3)\n",
            "Requirement already satisfied: itsdangerous>=2.0 in /usr/local/lib/python3.10/dist-packages (from flask>=2.2.5->flask_sqlalchemy) (2.1.2)\n",
            "Requirement already satisfied: click>=8.0 in /usr/local/lib/python3.10/dist-packages (from flask>=2.2.5->flask_sqlalchemy) (8.1.7)\n",
            "Requirement already satisfied: typing-extensions>=4.6.0 in /usr/local/lib/python3.10/dist-packages (from sqlalchemy>=2.0.16->flask_sqlalchemy) (4.10.0)\n",
            "Requirement already satisfied: greenlet!=0.4.17 in /usr/local/lib/python3.10/dist-packages (from sqlalchemy>=2.0.16->flask_sqlalchemy) (3.0.3)\n",
            "Requirement already satisfied: MarkupSafe>=2.0 in /usr/local/lib/python3.10/dist-packages (from Jinja2>=3.0->flask>=2.2.5->flask_sqlalchemy) (2.1.5)\n",
            "Installing collected packages: flask_sqlalchemy\n",
            "Successfully installed flask_sqlalchemy-3.1.1\n"
          ]
        }
      ]
    },
    {
      "cell_type": "markdown",
      "source": [
        "The following code is a simple API call and database creation for keeping and retrieving records. The database table has all the features deemed important from the Recursive Feature Elimination. The GET method retrieves all the data from the database as a JSON file. Finally, the POST method is for adding new data to the table."
      ],
      "metadata": {
        "id": "amJbR8G-zGDL"
      }
    },
    {
      "cell_type": "code",
      "source": [
        "from flask import Flask, jsonify, request\n",
        "from flask_sqlalchemy import SQLAlchemy\n",
        "from datetime import datetime, timezone\n",
        "\n",
        "app = Flask(__name__)\n",
        "app.config['SQLALCHEMY_DATABASE_URI'] = 'sqlite:///forecast.db'\n",
        "app.config['SQLALCHEMY_TRACK_MODIFICATIONS'] = False\n",
        "db = SQLAlchemy(app)\n",
        "\n",
        "# Create a class for the table in the database\n",
        "class Forecast(db.Model):\n",
        "    formatted_date = db.Column(db.String, primary_key=True)\n",
        "    temperature = db.Column(db.Float, nullable=False)\n",
        "    apparent_temperature = db.Column(db.Float, nullable=False)\n",
        "    humidity = db.Column(db.Float, nullable=False)\n",
        "    visibility = db.Column(db.Float, nullable=False)\n",
        "    pressure = db.Column(db.Float, nullable=False)\n",
        "    prediction = db.Column(db.String, nullable=False)\n",
        "\n",
        "    def __repr__(self):\n",
        "        return f'<Date {self.formatted_date}: Temp={self.temperature}, Apparent Temperature={self.apparent_temperature}, Humidity={self.humidity}, Visibility={self.visibility}, Pressure={self.pressure}, Prediction={self.prediction}>'\n",
        "\n",
        "\n",
        "# This function retrieves all forecast records from the database and returns them as JSON data\n",
        "@app.route('/forecast', methods=['GET'])\n",
        "def get_forecast():\n",
        "    with app.app_context():\n",
        "        forecasts = Forecast.query.all()\n",
        "        forecast_data = [{'formatted_date': forecast.formatted_date, 'temperature': forecast.temperature, 'apparent_temperature': forecast.apparent_temperature,'humidity': forecast.humidity, 'visibility': forecast.visibility, 'pressure': forecast.pressure, 'prediction': forecast.pred} for forecast in forecasts]\n",
        "    return jsonify(forecast_data)\n",
        "\n",
        "\n",
        "# For adding a new forecast record to the database based on the JSON data\n",
        "@app.route('/forecast', methods=['POST'])\n",
        "def post_forecast():\n",
        "    data = request.get_json()\n",
        "    formatted_date = datetime.strptime(data['formatted_date'], '%Y-%m-%d %H:%M:%S')\n",
        "    with app.app_context():\n",
        "        new_forecast = Forecast(formatted_date=formatted_date,\n",
        "                                apparent_temperature=data['apparent_temperature'],\n",
        "                                humidity=data['humidity'],\n",
        "                                visibility=data['visibility'],\n",
        "                                pressure=data['pressure'],\n",
        "                                prediction=data['prediction'])\n",
        "        db.session.add(new_forecast)\n",
        "        db.session.commit()\n",
        "    return jsonify({'message': 'Forecast added successfully'}), 201\n",
        "\n",
        "if __name__ == '__main__':\n",
        "    with app.app_context():\n",
        "        db.create_all()\n",
        "    app.run(debug=True)\n"
      ],
      "metadata": {
        "id": "K-QEkBi5h7IU",
        "colab": {
          "base_uri": "https://localhost:8080/"
        },
        "outputId": "11e32abf-c7c5-415d-bf68-d0ccdf742276"
      },
      "execution_count": null,
      "outputs": [
        {
          "output_type": "stream",
          "name": "stdout",
          "text": [
            " * Serving Flask app '__main__'\n",
            " * Debug mode: on\n"
          ]
        },
        {
          "output_type": "stream",
          "name": "stderr",
          "text": [
            "INFO:werkzeug:\u001b[31m\u001b[1mWARNING: This is a development server. Do not use it in a production deployment. Use a production WSGI server instead.\u001b[0m\n",
            " * Running on http://127.0.0.1:5000\n",
            "INFO:werkzeug:\u001b[33mPress CTRL+C to quit\u001b[0m\n",
            "INFO:werkzeug: * Restarting with stat\n"
          ]
        }
      ]
    }
  ]
}